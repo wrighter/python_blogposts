{
 "cells": [
  {
   "cell_type": "markdown",
   "id": "8362d401",
   "metadata": {},
   "source": [
    "# Useful pandas ```DateOffset``` examples\n",
    "So much useful data has a date or time component. Often, data has a timestamp to represent when the data was acquired, or when an event will take place, or as an identifying attribute like an expiration date. For this reason, understanding how to work with dates and times effectively can be a very useful skill. One common need is to select dates (and times) using rules based on their offset from known times. This article will focus on some handy ways to use `DateOffset`s from the Python library pandas for working with dates specifically.\n",
    "\n",
    "Since my experience is in the areas of finance and trading, I'll use some practical examples I've encountered over the years. But even if you don't work in finance, the techniques should work for any data that has dates.\n",
    "\n",
    "## What is a `DateOffset`?\n",
    "A `DateOffset` is just a special object that represents a way to shift a date to a new date. This turns out to be really useful.\n",
    "\n",
    "The `DateOffset` class and a number of useful _offset aliases_ are in the `pd.offsets` package (an alias to `pandas.tseries.offsets`).\n",
    "\n",
    "## Quick overview\n",
    "Before we look at some ideas of how to use these `DateOffset`s, let's just review how they work. This is all just a high level of what you'll find in the [documentation](https://pandas.pydata.org/pandas-docs/stable/user_guide/timeseries.html#dateoffset-objects), so head there for more detail.\n",
    "\n",
    "First, let's just look at the `DateOffset` class itself, you can do quite a bit with it alone!\n",
    "\n",
    "The `DateOffset` constructor takes a number of keyword arguments. The arguments that are plural are used to *shift* the date. The ones that are singular are used to *replace* the resulting date's values. Use `normalize` to set the time to midnight. Note that `DateOffset` will respect timezones, unlike `Timedelta`, so if you cross a daylight savings boundary, it will make sure you aren't off by an hour. "
   ]
  },
  {
   "cell_type": "code",
   "execution_count": 1,
   "id": "12c751ec",
   "metadata": {},
   "outputs": [],
   "source": [
    "import pandas as pd\n",
    "import numpy as np"
   ]
  },
  {
   "cell_type": "code",
   "execution_count": 2,
   "id": "d3a8885b",
   "metadata": {},
   "outputs": [
    {
     "name": "stdout",
     "output_type": "stream",
     "text": [
      "Add a day: 2022-09-26 14:36:16.409965\n",
      "Add a week: 2022-10-02 14:36:16.409965\n",
      "Add a month: 2022-10-25 14:36:16.409965\n",
      "Add an hour: 2022-09-25 15:36:16.409965\n",
      "Add a day, replace the hour: 2022-09-26 13:36:16.409965\n",
      "Add a month, normalize: 2022-01-25 00:00:00\n",
      "Add 2 days across DST change: 2022-11-07 00:00:00-06:00\n",
      "Add 2 days across DST change (with Timedelta, no adjustment): 2022-11-06 23:00:00-06:00\n"
     ]
    }
   ],
   "source": [
    "now = pd.Timestamp.now()\n",
    "print(\"Add a day:\", now + pd.offsets.DateOffset(days=1))\n",
    "print(\"Add a week:\", now + pd.offsets.DateOffset(weeks=1))\n",
    "print(\"Add a month:\", now + pd.offsets.DateOffset(months=1))\n",
    "print(\"Add an hour:\", now + pd.offsets.DateOffset(hours=1))\n",
    "print(\"Add a day, replace the hour:\", now + pd.offsets.DateOffset(days=1, hour=13))\n",
    "print(\"Add a month, normalize:\", now + pd.offsets.DateOffset(month=1, normalize=True))\n",
    "print(\"Add 2 days across DST change:\", pd.Timestamp(\"2022-11-05 00:00:00\", tz=\"America/Chicago\") + pd.offsets.DateOffset(days=2))\n",
    "print(\"Add 2 days across DST change (with Timedelta, no adjustment):\", pd.Timestamp(\"2022-11-05 00:00:00\", tz=\"America/Chicago\") + pd.Timedelta(days=2))"
   ]
  },
  {
   "cell_type": "markdown",
   "id": "e65c45fe",
   "metadata": {},
   "source": [
    "## Offset aliases\n",
    "However, you don't need to use the `DateOffset` class directly. There are a ton of named offset aliases that do what you want for a number of common scenarios. You'll find these to be extremely useful."
   ]
  },
  {
   "cell_type": "code",
   "execution_count": 3,
   "id": "08bc3d08",
   "metadata": {},
   "outputs": [
    {
     "name": "stdout",
     "output_type": "stream",
     "text": [
      "Next business day (or weekday): 2022-09-26 00:00:00\n",
      "Three business days (or weekday): 2022-09-28 00:00:00\n",
      "Next Easter: 2023-04-09 00:00:00\n"
     ]
    }
   ],
   "source": [
    "print(\"Next business day (or weekday):\", now + pd.offsets.BDay(normalize=True))\n",
    "print(\"Three business days (or weekday):\", now + pd.offsets.BDay(3, normalize=True))\n",
    "print(\"Next Easter:\", now + pd.offsets.Easter(normalize=True))"
   ]
  },
  {
   "cell_type": "markdown",
   "id": "ff9d7a8d",
   "metadata": {},
   "source": [
    "You can also subtract offsets."
   ]
  },
  {
   "cell_type": "code",
   "execution_count": 4,
   "id": "43c2798d",
   "metadata": {},
   "outputs": [
    {
     "name": "stdout",
     "output_type": "stream",
     "text": [
      "Beginning of month: 2022-09-01 00:00:00\n",
      "Beginning of quarter: 2022-09-01 00:00:00\n",
      "Beginning of year: 2022-01-01 00:00:00\n"
     ]
    }
   ],
   "source": [
    "print(\"Beginning of month:\", now - pd.offsets.MonthBegin(normalize=True))\n",
    "print(\"Beginning of quarter:\", now - pd.offsets.QuarterBegin(normalize=True))\n",
    "print(\"Beginning of year:\", now - pd.offsets.YearBegin(normalize=True))"
   ]
  },
  {
   "cell_type": "markdown",
   "id": "e3df902d",
   "metadata": {},
   "source": [
    "## Full offset alias list\n",
    "Pandas has a plethora of configured offset aliases. You can create them by constructing them as an object as shown above, or you can pass their code (listed in parentheses below) to other pandas methods that take offsets as a parameter, as you'll see below. Here's a list taken right from the documentation.\n",
    "\n",
    "* `DateOffset` Generic offset class, defaults to absolute 24 hours\n",
    "* `BDay` or `BusinessDay`, (`B`). business day or weekday\n",
    "* `CDay` or `CustomBusinessDay`, (`C`).  custom business day\n",
    "* `Week` (`W`) one week, optionally anchored on a day of the week\n",
    "* `WeekOfMonth` (`WOM`) the x-th day of the y-th week of each month\n",
    "* `LastWeekOfMonth` (`LWOM`) the x-th day of the last week of each month\n",
    "* `MonthEnd` (`M`) calendar month end\n",
    "* `MonthBegin` (`MS`) calendar month begin\n",
    "* `BMonthEnd` or `BusinessMonthEnd` (`BM`) business month end\n",
    "* `BMonthBegin` or `BusinessMonthBegin` (`BMS`) business month begin\n",
    "* `CBMonthEnd` or `CustomBusinessMonthEnd` (`CBM`) custom business month end\n",
    "* `CBMonthBegin` or `CustomBusinessMonthBegin` (`CBMS`) custom business month begin\n",
    "* `SemiMonthEnd` (`SM`) 15th (or other day_of_month) and calendar month end\n",
    "* `SemiMonthBegin` (`SMS`) 15th (or other day_of_month) and calendar month begin\n",
    "* `QuarterEnd` (`Q`) calendar quarter end\n",
    "* `QuarterBegin` (`QS`) calendar quarter begin\n",
    "* `BQuarterEnd` (`BQ`) business quarter end\n",
    "* `BQuarterBegin` (`BQS`) business quarter begin\n",
    "* `FY5253Quarter` (`REQ`) retail (aka 52-53 week) quarter\n",
    "* `YearEnd` (`A`) calendar year end\n",
    "* `YearBegin` (`AS`) or (`BYS`) calendar year begin\n",
    "* `BYearEnd` (`BA`) business year end\n",
    "* `BYearBegin` (`BAS`) business year begin\n",
    "* `FY5253` (`RE`) retail (aka 52-53 week) year\n",
    "* `Easter` Easter holiday\n",
    "* `BusinessHour` (`BH`) business hour\n",
    "* `CustomBusinessHour` (`CBH`) custom business hour\n",
    "* `Day` (`D`) one absolute day\n",
    "* `Hour` (`H`) one hour\n",
    "* `Minute` (`T`) or (`min`) one minute\n",
    "* `Second` (`S`) one second\n",
    "* `Milli` (`L`) or (`ms`) one millisecond\n",
    "* `Micro` (`U`) or (`us`) one microsecond\n",
    "* `Nano` (`N`) one nanosecond\n",
    "\n",
    "A useful place to use the offset aliases is in `pd.date_range`. The code can be passed in as the `freq` argument along with numbers. Here's a few examples."
   ]
  },
  {
   "cell_type": "code",
   "execution_count": 5,
   "id": "5bffda3c",
   "metadata": {},
   "outputs": [
    {
     "name": "stdout",
     "output_type": "stream",
     "text": [
      "Beginning of the quarter\n",
      " DatetimeIndex(['2022-01-01', '2022-04-01', '2022-07-01', '2022-10-01'], dtype='datetime64[ns]', freq='QS-JAN')\n",
      "Beginning of the month\n",
      " DatetimeIndex(['2022-01-01', '2022-02-01', '2022-03-01', '2022-04-01'], dtype='datetime64[ns]', freq='MS')\n",
      "Beginning of every 3rd month\n",
      " DatetimeIndex(['2022-01-01', '2022-04-01', '2022-07-01', '2022-10-01'], dtype='datetime64[ns]', freq='3MS')\n"
     ]
    }
   ],
   "source": [
    "print(\"Beginning of the quarter\\n\", pd.date_range(start='2022-01-01', freq='QS', periods=4))\n",
    "print(\"Beginning of the month\\n\", pd.date_range(start='2022-01-01', freq='MS', periods=4))\n",
    "print(\"Beginning of every 3rd month\\n\", pd.date_range(start='2022-01-01', freq='3MS', periods=4))"
   ]
  },
  {
   "cell_type": "markdown",
   "id": "c5794d2d",
   "metadata": {},
   "source": [
    "## What is the alternative to pandas `DateOffset`s?\n",
    "You've probably seen a lot of code that tries to do complex date logic using basic Python datetime times. This might make sense for trival cases, but you will quickly run into situations that cause that code to turn ugly. For example, if given a date you want to find the next Monday, you could write something like this:"
   ]
  },
  {
   "cell_type": "code",
   "execution_count": 6,
   "id": "21d8b600",
   "metadata": {},
   "outputs": [
    {
     "data": {
      "text/plain": [
       "datetime.date(2022, 9, 26)"
      ]
     },
     "execution_count": 6,
     "metadata": {},
     "output_type": "execute_result"
    }
   ],
   "source": [
    "import datetime\n",
    "\n",
    "today = datetime.date.today()\n",
    "\n",
    "while today.weekday() != 0: # Monday\n",
    "    today += datetime.timedelta(days=1)\n",
    "    \n",
    "today"
   ]
  },
  {
   "cell_type": "markdown",
   "id": "50113bf3",
   "metadata": {},
   "source": [
    "Compare the above to"
   ]
  },
  {
   "cell_type": "code",
   "execution_count": 7,
   "id": "6157a08a",
   "metadata": {},
   "outputs": [
    {
     "data": {
      "text/plain": [
       "datetime.date(2022, 9, 26)"
      ]
     },
     "execution_count": 7,
     "metadata": {},
     "output_type": "execute_result"
    }
   ],
   "source": [
    "(pd.Timestamp.today() + pd.offsets.Week(1, weekday=0)).date()"
   ]
  },
  {
   "cell_type": "markdown",
   "id": "f905a696",
   "metadata": {},
   "source": [
    "Plus, it's easy to use these offsets on pandas `Series` and `DataFrame`s."
   ]
  },
  {
   "cell_type": "code",
   "execution_count": 8,
   "id": "d5a44e24",
   "metadata": {},
   "outputs": [
    {
     "data": {
      "text/plain": [
       "0   2022-01-03\n",
       "1   2022-01-03\n",
       "2   2022-01-10\n",
       "3   2022-01-10\n",
       "4   2022-01-10\n",
       "dtype: datetime64[ns]"
      ]
     },
     "execution_count": 8,
     "metadata": {},
     "output_type": "execute_result"
    }
   ],
   "source": [
    "s = pd.Series(pd.date_range('2022-01-01', periods=5))\n",
    "s + pd.offsets.Week(1, weekday=0)"
   ]
  },
  {
   "cell_type": "markdown",
   "id": "c8db5df7",
   "metadata": {},
   "source": [
    "## More complicated scenarios\n",
    "One way I've found offsets to be useful is to select data for certain events. For example, a very important report for the US financial markets is made available every month from the U.S. Bureau of Labor Statistics. It's called the Employment Situation, with the \"Non-Farm payrolls\" number in that report being one of the most closely watched pieces of data by traders. Their schedule is [listed on their website]. It generally follows the schedule of the first Friday of the month.  We can generate this pretty easily using pandas. There are a couple of ways we could do this, but here's one technique. We can make a date index using `date_range`, and pass in the `MonthBegin` as the `freq`, using the code from the list above. "
   ]
  },
  {
   "cell_type": "code",
   "execution_count": 9,
   "id": "5e6d7de5",
   "metadata": {},
   "outputs": [
    {
     "data": {
      "text/plain": [
       "DatetimeIndex(['2022-01-01', '2022-02-01', '2022-03-01', '2022-04-01',\n",
       "               '2022-05-01', '2022-06-01', '2022-07-01', '2022-08-01',\n",
       "               '2022-09-01', '2022-10-01', '2022-11-01', '2022-12-01'],\n",
       "              dtype='datetime64[ns]', freq='MS')"
      ]
     },
     "execution_count": 9,
     "metadata": {},
     "output_type": "execute_result"
    }
   ],
   "source": [
    "dates = pd.date_range('2022-01-01', '2022-12-31', freq='MS')\n",
    "dates"
   ]
  },
  {
   "cell_type": "markdown",
   "id": "47e35115",
   "metadata": {},
   "source": [
    "Now, given the first day of the month, can we get the first Monday of the month? One way to do this is to back up 1 day (in case the first day *is* a Monday itself), then move forward one week, but setting the weekday to Friday."
   ]
  },
  {
   "cell_type": "code",
   "execution_count": 10,
   "id": "da8886a6",
   "metadata": {},
   "outputs": [
    {
     "data": {
      "text/plain": [
       "DatetimeIndex(['2022-01-07', '2022-02-04', '2022-03-04', '2022-04-01',\n",
       "               '2022-05-06', '2022-06-03', '2022-07-01', '2022-08-05',\n",
       "               '2022-09-02', '2022-10-07', '2022-11-04', '2022-12-02'],\n",
       "              dtype='datetime64[ns]', freq=None)"
      ]
     },
     "execution_count": 10,
     "metadata": {},
     "output_type": "execute_result"
    }
   ],
   "source": [
    "dates - pd.offsets.Day(1) + pd.offsets.Week(1, weekday=4)"
   ]
  },
  {
   "cell_type": "markdown",
   "id": "b57bf246",
   "metadata": {},
   "source": [
    "But, it turns out you can pass in a `0` as the week move, and in that case it will not shift if the start date is the same as the anchor point. (I hadn't realized that until I was writing this up. The pandas docs are full of great information, you should read them!)."
   ]
  },
  {
   "cell_type": "code",
   "execution_count": 11,
   "id": "ead4d2b8",
   "metadata": {},
   "outputs": [
    {
     "data": {
      "text/plain": [
       "DatetimeIndex(['2022-01-07', '2022-02-04', '2022-03-04', '2022-04-01',\n",
       "               '2022-05-06', '2022-06-03', '2022-07-01', '2022-08-05',\n",
       "               '2022-09-02', '2022-10-07', '2022-11-04', '2022-12-02'],\n",
       "              dtype='datetime64[ns]', freq=None)"
      ]
     },
     "execution_count": 11,
     "metadata": {},
     "output_type": "execute_result"
    }
   ],
   "source": [
    "dates + pd.offsets.Week(0, weekday=4)"
   ]
  },
  {
   "cell_type": "markdown",
   "id": "5b0f3293",
   "metadata": {},
   "source": [
    "Now if I compare the values above with this year's dates listed [at the BLS site](https://www.bls.gov/schedule/2022/home.htm), I see that the July data was released on July 8th, not July 1st. This is related to the U.S. Independence Day holiday the following Monday. This is a good reminder to never completely trust your understanding of the data! The BLS can choose to move things around if they want to, so having a reliable reference source for events is probably required if you are depending on this data. \n",
    "\n",
    "## Holidays\n",
    "What about dealing with holidays? If we look at the [2021 schedule](https://www.bls.gov/schedule/2021/home.htm), we can see that the first Friday in January falls on New Year's Day. It turns out that adding holidays is not that hard with pandas. If all you want to do is select the next business day, you can just use the calendar with a `CustomBusinessDay` offset, with a value of `0` that means we should only move forward if the date is a holiday."
   ]
  },
  {
   "cell_type": "code",
   "execution_count": 12,
   "id": "a5592799",
   "metadata": {},
   "outputs": [
    {
     "data": {
      "text/plain": [
       "DatetimeIndex(['2021-01-01', '2021-02-01', '2021-03-01', '2021-04-01',\n",
       "               '2021-05-01', '2021-06-01', '2021-07-01', '2021-08-01',\n",
       "               '2021-09-01', '2021-10-01', '2021-11-01', '2021-12-01'],\n",
       "              dtype='datetime64[ns]', freq='MS')"
      ]
     },
     "execution_count": 12,
     "metadata": {},
     "output_type": "execute_result"
    }
   ],
   "source": [
    "dates_2021 = pd.date_range('2021-01-01', '2021-12-31', freq='MS')\n",
    "dates_2021"
   ]
  },
  {
   "cell_type": "code",
   "execution_count": 13,
   "id": "fae1c1dd",
   "metadata": {},
   "outputs": [
    {
     "name": "stderr",
     "output_type": "stream",
     "text": [
      "/Users/mcw/.pyenv/versions/pandas/lib/python3.8/site-packages/pandas/core/arrays/datetimes.py:760: PerformanceWarning: Non-vectorized DateOffset being applied to Series or DatetimeIndex.\n",
      "  warnings.warn(\n"
     ]
    },
    {
     "data": {
      "text/plain": [
       "DatetimeIndex(['2021-01-04', '2021-02-01', '2021-03-01', '2021-04-01',\n",
       "               '2021-05-03', '2021-06-01', '2021-07-01', '2021-08-02',\n",
       "               '2021-09-01', '2021-10-01', '2021-11-01', '2021-12-01'],\n",
       "              dtype='datetime64[ns]', freq=None)"
      ]
     },
     "execution_count": 13,
     "metadata": {},
     "output_type": "execute_result"
    }
   ],
   "source": [
    "from pandas.tseries.holiday import USFederalHolidayCalendar\n",
    "\n",
    "bday_us = pd.offsets.CustomBusinessDay(0, calendar=USFederalHolidayCalendar())\n",
    "dates_2021 + bday_us"
   ]
  },
  {
   "cell_type": "markdown",
   "id": "b257d19a",
   "metadata": {},
   "source": [
    "Note that we get a warning that the offset is non-vectorized. This means that if you want to use this technique on an extremely large dataset, this will be quite slow (as of the time of writing with pandas 1.4.3). For this reason, for larger data sets you may want to create this index once and use it multiple times with your data.\n",
    "\n",
    "Now, note that above we used a holiday calendar from pandas. But the holidays on the web site were slightly different - the BLS listed Inauguration Day as a holiday as well. We can make a custom holiday calendar ourselves."
   ]
  },
  {
   "cell_type": "code",
   "execution_count": 14,
   "id": "841835a4",
   "metadata": {},
   "outputs": [
    {
     "name": "stderr",
     "output_type": "stream",
     "text": [
      "/Users/mcw/.pyenv/versions/pandas/lib/python3.8/site-packages/pandas/core/arrays/datetimes.py:760: PerformanceWarning: Non-vectorized DateOffset being applied to Series or DatetimeIndex.\n",
      "  warnings.warn(\n"
     ]
    },
    {
     "data": {
      "text/plain": [
       "DatetimeIndex(['2021-01-04', '2021-02-01', '2021-03-01', '2021-04-01',\n",
       "               '2021-05-03', '2021-06-01', '2021-07-01', '2021-08-02',\n",
       "               '2021-09-01', '2021-10-01', '2021-11-01', '2021-12-01'],\n",
       "              dtype='datetime64[ns]', freq=None)"
      ]
     },
     "execution_count": 14,
     "metadata": {},
     "output_type": "execute_result"
    }
   ],
   "source": [
    "bls_holidays = [\n",
    "    \"2021-01-01\",\n",
    "    \"2021-01-18\",\n",
    "    \"2021-01-20\",\n",
    "    \"2021-02-15\",\n",
    "    \"2021-05-31\",\n",
    "    \"2021-07-05\",\n",
    "    \"2021-09-06\",\n",
    "    \"2021-10-11\",\n",
    "    \"2021-11-11\",\n",
    "    \"2021-11-25\",\n",
    "    \"2021-12-24\",\n",
    "    \"2021-12-31\",\n",
    "]\n",
    "bday_bls = pd.offsets.CustomBusinessDay(0, holidays=bls_holidays)\n",
    "dates_2021_bls = dates_2021 + bday_bls\n",
    "dates_2021_bls"
   ]
  },
  {
   "cell_type": "markdown",
   "id": "a93f18ee",
   "metadata": {},
   "source": [
    "Now, if you had a `Series` or `DataFrame` of data, say returns for a financial instrument for every day of the year, you could use this index to pick out the ones from the dates in question using pandas indexing. If you want to know more about indexing time series data in pandas, you can [check out this article](https://www.wrighters.io/indexing-time-series-data-in-pandas/). Here's an example:"
   ]
  },
  {
   "cell_type": "code",
   "execution_count": 15,
   "id": "8ef5beca",
   "metadata": {},
   "outputs": [
    {
     "data": {
      "text/html": [
       "<div>\n",
       "<style scoped>\n",
       "    .dataframe tbody tr th:only-of-type {\n",
       "        vertical-align: middle;\n",
       "    }\n",
       "\n",
       "    .dataframe tbody tr th {\n",
       "        vertical-align: top;\n",
       "    }\n",
       "\n",
       "    .dataframe thead th {\n",
       "        text-align: right;\n",
       "    }\n",
       "</style>\n",
       "<table border=\"1\" class=\"dataframe\">\n",
       "  <thead>\n",
       "    <tr style=\"text-align: right;\">\n",
       "      <th></th>\n",
       "      <th>0</th>\n",
       "    </tr>\n",
       "  </thead>\n",
       "  <tbody>\n",
       "    <tr>\n",
       "      <th>2021-01-04</th>\n",
       "      <td>0.151260</td>\n",
       "    </tr>\n",
       "    <tr>\n",
       "      <th>2021-02-01</th>\n",
       "      <td>0.201709</td>\n",
       "    </tr>\n",
       "    <tr>\n",
       "      <th>2021-03-01</th>\n",
       "      <td>0.921957</td>\n",
       "    </tr>\n",
       "    <tr>\n",
       "      <th>2021-04-01</th>\n",
       "      <td>0.072389</td>\n",
       "    </tr>\n",
       "    <tr>\n",
       "      <th>2021-05-03</th>\n",
       "      <td>0.821674</td>\n",
       "    </tr>\n",
       "    <tr>\n",
       "      <th>2021-06-01</th>\n",
       "      <td>0.561620</td>\n",
       "    </tr>\n",
       "    <tr>\n",
       "      <th>2021-07-01</th>\n",
       "      <td>0.926453</td>\n",
       "    </tr>\n",
       "    <tr>\n",
       "      <th>2021-08-02</th>\n",
       "      <td>0.055801</td>\n",
       "    </tr>\n",
       "    <tr>\n",
       "      <th>2021-09-01</th>\n",
       "      <td>0.768521</td>\n",
       "    </tr>\n",
       "    <tr>\n",
       "      <th>2021-10-01</th>\n",
       "      <td>0.294276</td>\n",
       "    </tr>\n",
       "    <tr>\n",
       "      <th>2021-11-01</th>\n",
       "      <td>0.651574</td>\n",
       "    </tr>\n",
       "    <tr>\n",
       "      <th>2021-12-01</th>\n",
       "      <td>0.099297</td>\n",
       "    </tr>\n",
       "  </tbody>\n",
       "</table>\n",
       "</div>"
      ],
      "text/plain": [
       "                   0\n",
       "2021-01-04  0.151260\n",
       "2021-02-01  0.201709\n",
       "2021-03-01  0.921957\n",
       "2021-04-01  0.072389\n",
       "2021-05-03  0.821674\n",
       "2021-06-01  0.561620\n",
       "2021-07-01  0.926453\n",
       "2021-08-02  0.055801\n",
       "2021-09-01  0.768521\n",
       "2021-10-01  0.294276\n",
       "2021-11-01  0.651574\n",
       "2021-12-01  0.099297"
      ]
     },
     "execution_count": 15,
     "metadata": {},
     "output_type": "execute_result"
    }
   ],
   "source": [
    "# make some fake data, one value per day of the year\n",
    "df = pd.DataFrame(np.random.rand(365), index=pd.date_range('2021-01-01', '2021-12-31'))\n",
    "df.loc[dates_2021_bls]"
   ]
  },
  {
   "cell_type": "markdown",
   "id": "acc4c57a",
   "metadata": {},
   "source": [
    "In summary, you can use pandas `DateOffset`s to shift dates easily. This can be a huge timesaver when you need to select data using complex (and not so complex) criteria. How will you use them in your next data investigation?"
   ]
  },
  {
   "cell_type": "code",
   "execution_count": null,
   "id": "21a2b6c8",
   "metadata": {},
   "outputs": [],
   "source": []
  }
 ],
 "metadata": {
  "kernelspec": {
   "display_name": "Python 3",
   "language": "python",
   "name": "python3"
  },
  "language_info": {
   "codemirror_mode": {
    "name": "ipython",
    "version": 3
   },
   "file_extension": ".py",
   "mimetype": "text/x-python",
   "name": "python",
   "nbconvert_exporter": "python",
   "pygments_lexer": "ipython3",
   "version": "3.8.6"
  },
  "varInspector": {
   "cols": {
    "lenName": 16,
    "lenType": 16,
    "lenVar": 40
   },
   "kernels_config": {
    "python": {
     "delete_cmd_postfix": "",
     "delete_cmd_prefix": "del ",
     "library": "var_list.py",
     "varRefreshCmd": "print(var_dic_list())"
    },
    "r": {
     "delete_cmd_postfix": ") ",
     "delete_cmd_prefix": "rm(",
     "library": "var_list.r",
     "varRefreshCmd": "cat(var_dic_list()) "
    }
   },
   "types_to_exclude": [
    "module",
    "function",
    "builtin_function_or_method",
    "instance",
    "_Feature"
   ],
   "window_display": false
  }
 },
 "nbformat": 4,
 "nbformat_minor": 5
}
