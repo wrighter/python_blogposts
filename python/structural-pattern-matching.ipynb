{
 "cells": [
  {
   "attachments": {},
   "cell_type": "markdown",
   "id": "0386b616",
   "metadata": {},
   "source": [
    "# A Gentle Introduction to Structural Pattern Matching in Python\n",
    "\n",
    "When new features are added to Python, sometimes it can take a while to learn about and start using the feature. For me, structural pattern matching is a good example. Some features are very easy to grasp and start using (for example, f-strings), but structural pattern matching can be confusing for developers who have not been exposed to it before. Some try to relate it to the wrong language feature in their past experience. In this article, I'll introduce a few foundational concepts about the feature, then describe it in more detail, and provide some practical examples of how to use it.\n",
    "\n",
    "Structural pattern matching was first made available in Python 3.10.  Functional programming languages such as scala make heavy use of structural pattern matching, and Python's implementation is influenced by ideas from other languages. If you haven't used this feature in another language before, hopefully this article will introduce it to you and show you how it can be useful in your own work.\n",
    "\n",
    "In order to run the code in this article, you have to be running Python 3.10 or above or you will get the following error on the `match` statement: `SyntaxError: invalid syntax`.\n",
    "\n",
    "To install Python 3.10, I recommend using [pyenv](https://www.wrighters.io/you-can-easily-and-sensibly-run-multiple-versions-of-python-with-pyenv/). Pyenv allows you to have multiple versions of Python on your workstation. Here's what I did to install 3.10.4 on my laptop after installing Pyenv. (3.10.4 was the latest version of 3.10 when I wrote this, you might choose to install any version above 3.10.0).\n",
    "\n",
    "```shell\n",
    "pyenv install 3.10.4\n",
    "```\n",
    "\n",
    "Then, I used [pyenv-virtualenv](https://www.wrighters.io/use-pyenv-and-virtual-environments-to-manage-python-complexity/) to make a virtual environment to work with the new 3.10 install.\n",
    "\n",
    "```shell\n",
    "pyenv virtualenv 3.10.4 python-matching\n",
    "pyenv activate python-matching\n",
    "```\n",
    "If you installed Python another way, you can use that version to follow along, as long as it's 3.10 or above.\n",
    "\n",
    "## The basics\n",
    "What is Structural Pattern Matching? Before we get to that, let's back up and start with a few Python basics first. As I was reading about this feature, I found a review of these topics helpful. \n",
    "\n",
    "You've probably seen this done in Python before:"
   ]
  },
  {
   "cell_type": "code",
   "execution_count": 1,
   "id": "95f1b157",
   "metadata": {},
   "outputs": [
    {
     "name": "stdout",
     "output_type": "stream",
     "text": [
      "1 2 3 [1, 2, 3]\n"
     ]
    }
   ],
   "source": [
    "values = [1, 2, 3]\n",
    "\n",
    "a, b, c = values\n",
    "print(a, b, c, values)"
   ]
  },
  {
   "cell_type": "markdown",
   "id": "564837f9",
   "metadata": {},
   "source": [
    "What we've done here is created three new variables called `a`, `b`, and `c` that point to elements in the list `values`.\n",
    "\n",
    "What happens if we try to assign more variables than exist?"
   ]
  },
  {
   "cell_type": "code",
   "execution_count": 2,
   "id": "74365ef5",
   "metadata": {},
   "outputs": [
    {
     "ename": "ValueError",
     "evalue": "not enough values to unpack (expected 4, got 3)",
     "output_type": "error",
     "traceback": [
      "\u001b[0;31m---------------------------------------------------------------------------\u001b[0m",
      "\u001b[0;31mValueError\u001b[0m                                Traceback (most recent call last)",
      "Cell \u001b[0;32mIn[2], line 1\u001b[0m\n\u001b[0;32m----> 1\u001b[0m a, b, c, d \u001b[39m=\u001b[39m values\n",
      "\u001b[0;31mValueError\u001b[0m: not enough values to unpack (expected 4, got 3)"
     ]
    }
   ],
   "source": [
    "a, b, c, d = values"
   ]
  },
  {
   "cell_type": "markdown",
   "id": "278fc2bc",
   "metadata": {},
   "source": [
    "And what about fewer than exist?"
   ]
  },
  {
   "cell_type": "code",
   "execution_count": 3,
   "id": "b72eda97",
   "metadata": {},
   "outputs": [
    {
     "ename": "ValueError",
     "evalue": "too many values to unpack (expected 2)",
     "output_type": "error",
     "traceback": [
      "\u001b[0;31m---------------------------------------------------------------------------\u001b[0m",
      "\u001b[0;31mValueError\u001b[0m                                Traceback (most recent call last)",
      "Cell \u001b[0;32mIn[3], line 1\u001b[0m\n\u001b[0;32m----> 1\u001b[0m a, b \u001b[39m=\u001b[39m values\n",
      "\u001b[0;31mValueError\u001b[0m: too many values to unpack (expected 2)"
     ]
    }
   ],
   "source": [
    "a, b = values"
   ]
  },
  {
   "attachments": {},
   "cell_type": "markdown",
   "id": "afb7f2cd",
   "metadata": {},
   "source": [
    "However, you can match multiple elements in a single variable using a `*`. The variable `rest` will be a list with the rest of the values."
   ]
  },
  {
   "cell_type": "code",
   "execution_count": 4,
   "id": "a96b7eb6",
   "metadata": {},
   "outputs": [
    {
     "name": "stdout",
     "output_type": "stream",
     "text": [
      "1 [2, 3]\n"
     ]
    }
   ],
   "source": [
    "a, *rest = values\n",
    "print(a, rest)"
   ]
  },
  {
   "attachments": {},
   "cell_type": "markdown",
   "id": "dc0fd7c8",
   "metadata": {},
   "source": [
    "OK, so let's say that we have a list and we want to take different actions when we have  1, 2, 3, or more values in the list. How would you write this?\n",
    "\n",
    "Based on what we've already seen and a few else/if/elif statements, we could do something like this:"
   ]
  },
  {
   "cell_type": "code",
   "execution_count": 5,
   "id": "897c9641",
   "metadata": {},
   "outputs": [
    {
     "name": "stdout",
     "output_type": "stream",
     "text": [
      "Three behavior\n"
     ]
    }
   ],
   "source": [
    "a = None\n",
    "b = None\n",
    "c = None\n",
    "d = None\n",
    "if len(values) == 1:\n",
    "    a = values[0]\n",
    "    print(\"One behavior\")\n",
    "elif len(values) == 2:\n",
    "    a, b = values\n",
    "    print(\"Two behavior\")\n",
    "elif len(values) == 3:\n",
    "    a, b, c = values\n",
    "    print(\"Three behavior\")\n",
    "elif len(values) >= 4:\n",
    "    a, b, c, *d = values\n",
    "    print(\"More behavior\")\n"
   ]
  },
  {
   "attachments": {},
   "cell_type": "markdown",
   "id": "e0e1726e",
   "metadata": {},
   "source": [
    "## Enter the structural matching statement\n",
    "Now this might look sort of terrible, and you might have a few thoughts on how to make this code better, but really, there's not much else you can do in Python to handle all these situations. Most of us have just rolled up our sleeves and written this sort of code. \n",
    "\n",
    "Now if you come from a C/C++/Java background, you might think this is where a `switch` statement would be handy. If you recall, a `switch` statement allows you to essentially write a series of `if/else` statements in more concise syntax. You could switch on the length of the values list, for example, and avoid the multiple `len` checks. \n",
    "\n",
    "When Python introduced the `match` statement, many people were confused and thought of it strictly as a `switch` statement. Instead of just showing you lots of working correct examples, I'm going to show you a few mistakes first so you can be familiar with errors you could see.\n",
    "\n",
    "In terms of syntax, the `match` statement requires a subject expression to match on, followed by one or more `case` blocks. So you could try something like this:"
   ]
  },
  {
   "cell_type": "code",
   "execution_count": 6,
   "id": "532ff83e",
   "metadata": {},
   "outputs": [
    {
     "name": "stdout",
     "output_type": "stream",
     "text": [
      "Three behavior\n"
     ]
    }
   ],
   "source": [
    "\n",
    "match len(values):\n",
    "    case 1: print(\"One behavior\")\n",
    "    case 2: print(\"Two behavior\")\n",
    "    case 3: print(\"Three behavior\")"
   ]
  },
  {
   "attachments": {},
   "cell_type": "markdown",
   "id": "44d824c8",
   "metadata": {},
   "source": [
    "While using the match statement with literal values (we used `1`, `2`, and `3` above) in the case blocks technically works, that's really a basic case. This is not really much better than just using `if/else/elif` blocks. If you try to make use of `match` in this way, you might get really confused at some errors you find. For example, let's say you try to do this:"
   ]
  },
  {
   "cell_type": "code",
   "execution_count": 7,
   "id": "efe880e5",
   "metadata": {},
   "outputs": [
    {
     "ename": "SyntaxError",
     "evalue": "name capture 'ONE' makes remaining patterns unreachable (321946147.py, line 6)",
     "output_type": "error",
     "traceback": [
      "\u001b[0;36m  Cell \u001b[0;32mIn[7], line 6\u001b[0;36m\u001b[0m\n\u001b[0;31m    case ONE: print(\"One behavior\")\u001b[0m\n\u001b[0m         ^\u001b[0m\n\u001b[0;31mSyntaxError\u001b[0m\u001b[0;31m:\u001b[0m name capture 'ONE' makes remaining patterns unreachable\n"
     ]
    }
   ],
   "source": [
    "ONE = 1\n",
    "TWO = 2\n",
    "THREE = 3\n",
    "\n",
    "match len(values):\n",
    "    case ONE: print(\"One behavior\")\n",
    "    case TWO: print(\"Two behavior\")\n",
    "    case THREE: print(\"Three behavior\")"
   ]
  },
  {
   "attachments": {},
   "cell_type": "markdown",
   "id": "e8fe4922",
   "metadata": {},
   "source": [
    "What is happening here? Why is this any different from the code above it? Well, this is a case of not understanding what structural pattern matching is intended to do. It's not intended to be used strictly as a `switch`. This error message might be a bit confusing.  What it is saying is that you have three branches of your match that are all trying to match the same thing: a case where the length of the `values` list can be _assigned to_ a single variable. This is not checking the _value_ of the length of `values`. There is a way to do that, however, if you needed to. You have to use dotted notation so that Python knows you are trying to use a constant value."
   ]
  },
  {
   "cell_type": "code",
   "execution_count": 8,
   "id": "06fb3939",
   "metadata": {},
   "outputs": [
    {
     "name": "stdout",
     "output_type": "stream",
     "text": [
      "Three behavior\n"
     ]
    }
   ],
   "source": [
    "class Constants:\n",
    "    ONE = 1\n",
    "    TWO = 2\n",
    "    THREE = 3\n",
    "\n",
    "match len(values):\n",
    "    case Constants.ONE: print(\"One behavior\")\n",
    "    case Constants.TWO: print(\"Two behavior\")\n",
    "    case Constants.THREE: print(\"Three behavior\")"
   ]
  },
  {
   "attachments": {},
   "cell_type": "markdown",
   "id": "b1e657c9",
   "metadata": {},
   "source": [
    "So you _can_ use `match` as a switch if you really want to. But it's much more powerful than that.\n",
    "\n",
    "### Matching on patterns\n",
    "Now that we've fumbled around a bit, instead of using `match` like a simple `switch` statement, we will match on patterns. Thinking back to our earlier examples of unpacking a list, let's use `match` to do this. "
   ]
  },
  {
   "cell_type": "code",
   "execution_count": 9,
   "id": "736a4884",
   "metadata": {},
   "outputs": [
    {
     "name": "stdout",
     "output_type": "stream",
     "text": [
      "Found 3:  19 30 1\n"
     ]
    }
   ],
   "source": [
    "# change up the list so you can see we really assigning and retaining the values\n",
    "values = [19, 30, 1] \n",
    "match values:\n",
    "    case a, b, c:\n",
    "        print(\"Found 3: \", a, b, c)"
   ]
  },
  {
   "cell_type": "markdown",
   "id": "3d32bbb4",
   "metadata": {},
   "source": [
    "Note that the variables `a`, `b`, and `c` survive outside the scope of the `match` statement."
   ]
  },
  {
   "cell_type": "code",
   "execution_count": 10,
   "id": "541b8019",
   "metadata": {},
   "outputs": [
    {
     "name": "stdout",
     "output_type": "stream",
     "text": [
      "19 30 1\n"
     ]
    }
   ],
   "source": [
    "print(a, b, c)"
   ]
  },
  {
   "cell_type": "markdown",
   "id": "043f7c71",
   "metadata": {},
   "source": [
    "Great, let's make it match on lists of up to four elements"
   ]
  },
  {
   "cell_type": "code",
   "execution_count": 11,
   "id": "173adce0",
   "metadata": {},
   "outputs": [
    {
     "ename": "SyntaxError",
     "evalue": "name capture 'a' makes remaining patterns unreachable (1371129738.py, line 2)",
     "output_type": "error",
     "traceback": [
      "\u001b[0;36m  Cell \u001b[0;32mIn[11], line 2\u001b[0;36m\u001b[0m\n\u001b[0;31m    case a:\u001b[0m\n\u001b[0m         ^\u001b[0m\n\u001b[0;31mSyntaxError\u001b[0m\u001b[0;31m:\u001b[0m name capture 'a' makes remaining patterns unreachable\n"
     ]
    }
   ],
   "source": [
    "match values:\n",
    "    case a:\n",
    "        print(\"1 - \", a)\n",
    "    case a, b:\n",
    "        print(\"2 - \", a, b)\n",
    "    case a, b, c:\n",
    "        print(\"3 - \", a, b, c)\n",
    "    case a, b, *c:\n",
    "        print(\"4 - \", a, b, c)"
   ]
  },
  {
   "attachments": {},
   "cell_type": "markdown",
   "id": "14c47185",
   "metadata": {},
   "source": [
    "Wait, why wouldn't that work? What does that error mean? Shouldn't we be able to match on any of the four?\n",
    "\n",
    "What's happening here is that the first match will make all other patterns unreachable - because it will _always_ match. We are matching the variable `values` on a new variable name `a`, so this is basically the same as saying `a = values`, which will always work. If you want to match a on a ist with one element, just say so."
   ]
  },
  {
   "cell_type": "code",
   "execution_count": 12,
   "id": "e70e44ca",
   "metadata": {},
   "outputs": [
    {
     "name": "stdout",
     "output_type": "stream",
     "text": [
      "3 -  19 30 1\n"
     ]
    }
   ],
   "source": [
    "match values:\n",
    "    case [a]:\n",
    "        print(\"1 - \", a)\n",
    "    case a, b:\n",
    "        print(\"2 - \", a, b)\n",
    "    case a, b, c:\n",
    "        print(\"3 - \", a, b, c)\n",
    "    case a, b, *c:\n",
    "        print(\"4 or more - \", a, b, c)"
   ]
  },
  {
   "cell_type": "markdown",
   "id": "67cafdf9",
   "metadata": {},
   "source": [
    "You can also do it in varying combinations of `[]` or `()` like this:"
   ]
  },
  {
   "cell_type": "code",
   "execution_count": 13,
   "id": "cfc0d370",
   "metadata": {},
   "outputs": [
    {
     "name": "stdout",
     "output_type": "stream",
     "text": [
      "4 or more -  1 2 [3, 4, 5]\n"
     ]
    }
   ],
   "source": [
    "match [1,2,3,4,5]:\n",
    "    case [a]:\n",
    "        print(\"1 - \", a)\n",
    "    case [a, b]:\n",
    "        print(\"2 - \", a, b)\n",
    "    case (a, b, c):\n",
    "        print(\"3 - \", a, b, c)\n",
    "    case a, b, *c:\n",
    "        print(\"4 or more - \", a, b, c)"
   ]
  },
  {
   "attachments": {},
   "cell_type": "markdown",
   "id": "29d0ccf7",
   "metadata": {},
   "source": [
    "Also, note that there are no errors or warnings if you don't match anything. Scala developers will cringe a bit at this. Since Scala has strong typing, it can enforce that every possible match type is covered."
   ]
  },
  {
   "cell_type": "code",
   "execution_count": 14,
   "id": "824cce1e",
   "metadata": {},
   "outputs": [],
   "source": [
    "match values:\n",
    "    case [a, b]:\n",
    "        print(\"2 - \", a, b)"
   ]
  },
  {
   "attachments": {},
   "cell_type": "markdown",
   "id": "0301fc39",
   "metadata": {},
   "source": [
    "But you can include a case using `_` that will capture anything not captured above it.  It's required to be the last `case` statement in the `match`."
   ]
  },
  {
   "cell_type": "code",
   "execution_count": 15,
   "id": "e5f4c1ca",
   "metadata": {},
   "outputs": [
    {
     "name": "stdout",
     "output_type": "stream",
     "text": [
      "[19, 30, 1] not matched\n"
     ]
    }
   ],
   "source": [
    "match values:\n",
    "    case [a, b]:\n",
    "        print(\"2 - \", a, b)\n",
    "    case _:\n",
    "        print(values, \"not matched\")"
   ]
  },
  {
   "attachments": {},
   "cell_type": "markdown",
   "id": "ba856c8c",
   "metadata": {},
   "source": [
    "Let's make a full example of what we were trying to do earlier, but with the `match` statement."
   ]
  },
  {
   "cell_type": "code",
   "execution_count": 16,
   "id": "d301c59d",
   "metadata": {},
   "outputs": [
    {
     "name": "stdout",
     "output_type": "stream",
     "text": [
      "Three behavior 19 30 1\n"
     ]
    }
   ],
   "source": [
    "match values:\n",
    "    case [a]:\n",
    "        print(\"One behavior\", a)\n",
    "    case [a, b]:\n",
    "        print(\"Two behavior\", a, b)\n",
    "    case [a, b, c]:\n",
    "        print(\"Three behavior\", a, b, c)\n",
    "    case [a, b, c, *d]:\n",
    "        print(\"More behavior\", a, b, c, d)\n",
    "    case _:\n",
    "        print(values, \"not matched\")"
   ]
  },
  {
   "attachments": {},
   "cell_type": "markdown",
   "id": "41cfd23e",
   "metadata": {},
   "source": [
    "## A concrete example\n",
    "Now that we have the basics mastered, let's dive in and see the true power of structural pattern matching. What we've covered so far is just the basics. We can do much more with structural pattern matching.\n",
    "\n",
    "You have already seen how we can match on a sequence of various sizes. Let's layer on more complex functionality.  Let's say that you have a configuration for an application, perhaps something that is stored in a configuration file or a database. You need to use this configuration to properly configure and run your application. Over the course of several steps, we will build up a more complicated configuration and show how structural pattern matching will make our code more readable and maintainable. For each step, I'll create two ways of processing the configuration and you can decide which works better.\n",
    "\n",
    "Fist, let's create a very basic configuration, where we have the user and role in two variables.  For this first step, we want to validate the `role` of the user, ensuring it is one of the valid roles of `admin`, `user`, and `power_user`."
   ]
  },
  {
   "cell_type": "code",
   "execution_count": 22,
   "id": "3b987d96",
   "metadata": {},
   "outputs": [
    {
     "name": "stdout",
     "output_type": "stream",
     "text": [
      "John is now able to do admin stuff\n",
      "John is now able to do admin stuff\n"
     ]
    }
   ],
   "source": [
    "role = 'admin'\n",
    "user = 'John'\n",
    "\n",
    "\n",
    "def set_admin_status(user) -> None:\n",
    "    # pretend this does something useful\n",
    "    print(f\"{user} is now able to do admin stuff\")\n",
    "\n",
    "def set_power_user_status(user) -> None:\n",
    "    # pretend this does something useful\n",
    "    print(f\"{user} is now able to do power user stuff\")\n",
    "\n",
    "\n",
    "# this is the old way\n",
    "def process_role(role, user) -> None:\n",
    "    if role == 'admin':\n",
    "        set_admin_status(user)\n",
    "    elif role == 'user':\n",
    "        # default behavior\n",
    "        pass\n",
    "    elif role == 'power_user':\n",
    "        set_power_user_status(user)\n",
    "    else:\n",
    "        # could raise an exception here\n",
    "        print(\"Unknown role\", role)\n",
    "\n",
    "# this is with structural pattern matching\n",
    "def process_role_match(role, user) -> None:\n",
    "    match role:\n",
    "        case 'admin':\n",
    "            set_admin_status(user)\n",
    "        case 'user':\n",
    "            # default behavior\n",
    "            pass\n",
    "        case 'power_user':\n",
    "            set_power_user_status(user)\n",
    "        case _:\n",
    "            # could raise an exception here\n",
    "            print(\"Unknown role\", role)\n",
    "\n",
    "\n",
    "process_role(role, user)\n",
    "process_role_match(role, user)"
   ]
  },
  {
   "attachments": {},
   "cell_type": "markdown",
   "id": "759cab59",
   "metadata": {},
   "source": [
    "OK, I prefer the second option here, but mostly because I'm familiar with `match` already.  There's very little difference in the amount of code needed to process the configuration.\n",
    "\n",
    "## Matching on values in lists\n",
    "Now let's look at an example of a list of values. Let's say that there's a font setting, with an optional font weight. Let's also say that we need to check for an unlicensed font setting and update it if we see it before calling `set_font`. "
   ]
  },
  {
   "cell_type": "code",
   "execution_count": 18,
   "id": "94427e5c",
   "metadata": {},
   "outputs": [
    {
     "name": "stdout",
     "output_type": "stream",
     "text": [
      "Font set to Arial 14\n",
      "Font set to Arial 14\n",
      "Font set to Times New Roman 12\n",
      "Font set to Times New Roman 12\n",
      "Font set to Times New Roman 16\n",
      "Font set to Times New Roman 16\n"
     ]
    }
   ],
   "source": [
    "font_settings = ['SuperFont', 14]\n",
    "\n",
    "def set_font(font, weight=12) -> None:\n",
    "    # pretend this does something useful\n",
    "    print(f\"Font set to {font} {weight}\")\n",
    "\n",
    "# this is the old way\n",
    "def process_font(font_settings) -> None:\n",
    "    if len(font_settings) >= 1:\n",
    "        font = font_settings[0]\n",
    "        if font == \"SuperFont\":\n",
    "            font = \"Arial\"\n",
    "    if len(font_settings) == 1:\n",
    "        set_font(font)\n",
    "    elif len(font_settings) == 2:\n",
    "        _, weight = font_settings\n",
    "        set_font(font, weight)\n",
    "    else:\n",
    "        # could raise an exception here\n",
    "        print(\"Unknown font settings\", font_settings)\n",
    "\n",
    "\n",
    "# this is with structural pattern matching\n",
    "def process_font_match(font_settings) -> None:\n",
    "    match font_settings:\n",
    "        case [\"SuperFont\", *rest]:\n",
    "            font = \"Arial\"\n",
    "            weight = 12 if len(rest) == 0 else rest[0]\n",
    "            set_font(font, weight)\n",
    "        case [font]:\n",
    "            set_font(font)\n",
    "        case [font, weight]:\n",
    "            set_font(font, weight)\n",
    "        case _:\n",
    "            # could raise an exception here\n",
    "            print(\"Unknown font settings\", font_settings)\n",
    "\n",
    "process_font(font_settings)\n",
    "process_font_match(font_settings)\n",
    "process_font([\"Times New Roman\"])\n",
    "process_font_match([\"Times New Roman\"])\n",
    "process_font([\"Times New Roman\", 16])\n",
    "process_font_match([\"Times New Roman\", 16])"
   ]
  },
  {
   "attachments": {},
   "cell_type": "markdown",
   "id": "8797bc2c",
   "metadata": {},
   "source": [
    "Note how I made use the of a match on literal values to check for the exceptional case first. Both sets of code are a bit messy, but I'd say the intention of the matching code is clearer.  Imagine how this could get more complicated with more unique sets of circumstances for different font choices.\n",
    "\n",
    "## Matching on `dict`s\n",
    "We'll now look at how to match on mappings, such as a Python `dict`. This is a very typical use case in Python. We often have to inpect the contents of a `dict` and act accordingly. \n",
    "\n",
    "Let's imagine we store some configuration in a `dict` that can be sparsely populated but has multiple levels. It also needs to be validated and used for configuration.\n",
    "\n",
    "Since it can be sparse, we need to properly check for the values in the `dict`, we can't just assume they are present. Since it is not strongly typed, we need to do our own checking that `int` values are valid, or enumerated values match something in the possible values, etc. This can be a bit cumbersome.\n",
    "\n",
    "But with pattern matching, we have the ability to match on the contents of the `dict`, including the types of the values.  We'll leverage this even more in a bit, but for now, let's just use the builtin type of `int` and `str` to check the types of the values. For example, you can match on an `int` value like this, and be assured that `volume` will be a valid int:\n",
    "\n",
    "```python\n",
    "case {\"volume\": int(volume)}:\n",
    "    print(volume)\n",
    "```\n",
    "\n",
    "We can also verify that values are valid within the `case` statement itself, and be assured that the value will be what is expected.\n",
    "```python\n",
    "case {\"orientation\": (\"landscape\" | \"portrait\") as orientation}:\n",
    "    print(orientation)\n",
    "```\n",
    "\n",
    "This could also be done like this:\n",
    "```python\n",
    "case {\"orientation\": orientation} if orientation in [\"landscape\", \"portrait\"]:\n",
    "    print(orientation)\n",
    "```\n",
    "\n",
    "Let's build two versions to process a multi-level configuration `dict`."
   ]
  },
  {
   "cell_type": "code",
   "execution_count": 19,
   "id": "e736e84c",
   "metadata": {},
   "outputs": [
    {
     "name": "stdout",
     "output_type": "stream",
     "text": [
      "Old way\n",
      "Sound volume set to 50\n",
      "Sound equalizer set to bass: 50, treble: 50\n",
      "Display brightness set to 50\n",
      "Display orientation set to landscape\n",
      "New way\n",
      "Sound equalizer set to bass: 50, treble: 50\n",
      "Sound volume set to 50\n",
      "Display brightness set to 50\n",
      "Display orientation set to landscape\n"
     ]
    }
   ],
   "source": [
    "options = {\n",
    "    'sound': {\n",
    "        'volume': 50,\n",
    "        'equalizer': {\n",
    "            'bass': 50,\n",
    "            'treble': 50\n",
    "        }\n",
    "    },\n",
    "    'display': {\n",
    "        'brightness': 50,\n",
    "        'orientation': 'landscape'\n",
    "    }\n",
    "}\n",
    "\n",
    "# common functions for setting values\n",
    "#\n",
    "def set_sound_volume(volume: int) -> None:\n",
    "    # pretend this does something useful\n",
    "    print(f\"Sound volume set to {volume}\")\n",
    "\n",
    "def set_sound_equalizer(bass: int, treble: int) -> None:\n",
    "    # pretend this does something useful\n",
    "    print(f\"Sound equalizer set to bass: {bass}, treble: {treble}\")\n",
    "\n",
    "def set_display_brightness(brightness: int) -> None:\n",
    "    # pretend this does something useful\n",
    "    print(f\"Display brightness set to {brightness}\")\n",
    "\n",
    "def set_display_orientation(orientation: str) -> None:\n",
    "    # pretend this does something useful\n",
    "    print(f\"Display orientation set to {orientation}\")\n",
    "\n",
    "# this is the old way\n",
    "def process_options(options: dict) -> None:\n",
    "    # we can do it with a lot of checks!\n",
    "    sound = options.get('sound', {})\n",
    "    if 'volume' in sound:\n",
    "        try:\n",
    "            volume = int(sound['volume'])\n",
    "            set_sound_volume(volume)\n",
    "        except ValueError:\n",
    "            pass\n",
    "    if 'equalizer' in sound:\n",
    "        equalizer = sound['equalizer']\n",
    "        if 'bass' in equalizer:\n",
    "            try:\n",
    "                bass = int(equalizer['bass'])\n",
    "                if 'treble' in equalizer:\n",
    "                    treble = int(equalizer['treble'])\n",
    "                    set_sound_equalizer(bass, treble)\n",
    "            except ValueError:\n",
    "                pass\n",
    "    if 'display' in options:\n",
    "        display = options['display']\n",
    "        if 'brightness' in display:\n",
    "            try:\n",
    "                brightness = int(display['brightness'])\n",
    "                set_display_brightness(brightness)\n",
    "            except ValueError:\n",
    "                pass\n",
    "        if 'orientation' in display:\n",
    "            try:\n",
    "                orientation = str(display['orientation'])\n",
    "                if orientation in ['landscape', 'portrait']:\n",
    "                    set_display_orientation(orientation)\n",
    "                else:\n",
    "                    print(\"Unknown orientation\", orientation)\n",
    "            except ValueError:\n",
    "                pass\n",
    "\n",
    "def process_options_match(options: dict) -> None:\n",
    "    match options.get('sound'):\n",
    "        case {'volume': int(volume), 'equalizer': {'bass': int(bass), 'treble': int(treble)}}:\n",
    "            set_sound_equalizer(bass, treble)\n",
    "            set_sound_volume(volume)\n",
    "        case {'volume': volume}:\n",
    "            set_sound_volume(volume)\n",
    "        case _:\n",
    "            print(\"Invalid sound options\", options.get('sound'))\n",
    "    match options.get('display'):\n",
    "        case {'brightness': int(brightness), 'orientation': ('landscape' | 'portrait') as orientation}:\n",
    "            set_display_brightness(brightness)\n",
    "            set_display_orientation(orientation)\n",
    "        case {'brightness': int(brightness)}:\n",
    "            set_display_brightness(brightness)\n",
    "        case {'orientation': orientation} if orientation in ['landscape', 'portrait']:\n",
    "            set_display_orientation(orientation)\n",
    "        case _:\n",
    "            print(\"Invalid display options\", options.get('display'))\n",
    "\n",
    "print(\"Old way\")\n",
    "process_options(options)\n",
    "print(\"New way\")\n",
    "process_options_match(options)\n"
   ]
  },
  {
   "attachments": {},
   "cell_type": "markdown",
   "id": "12a023ff",
   "metadata": {},
   "source": [
    "The difference between the two values now is much more stark. Being able to match on different combinations of values in the `dict` allows for code to be much more clear and concise. Handling all the possible failures for failed numeric conversions go away. We could also place default values or error handling right where it is needed, instead of mixing it up throughout deeply nested `if/else` statements. The example above is not doing complete error handling, but adding it is much more clear with structural pattern matching. \n",
    "\n",
    "### Matching on objects\n",
    "For the last example, we will create our own types and match on them. Let's say that our application has notification options, and they are represented by a class heirarchy that has two levels: a `Notification` base class and subclasses for the different types. They may have some common behavior, but we may also need to handle them differently, including looking at their internal values for proper configuration."
   ]
  },
  {
   "cell_type": "code",
   "execution_count": 20,
   "id": "93d62492",
   "metadata": {},
   "outputs": [
    {
     "name": "stdout",
     "output_type": "stream",
     "text": [
      "Old way\n",
      "Email configured for joe@example.com\n",
      "Domestic SMS configured for [1]123456789\n",
      "Slack configured for #general\n",
      "International SMS configured for [44]987654321\n",
      "New way\n",
      "Email configured for joe@example.com\n",
      "Domestic SMS configured for [1]123456789\n",
      "Slack configured for #general\n",
      "Domestic SMS configured for [44]987654321\n"
     ]
    }
   ],
   "source": [
    "from dataclasses import dataclass\n",
    "\n",
    "@dataclass\n",
    "class Notification:\n",
    "    def notify(self) -> None:\n",
    "        pass\n",
    "    pass\n",
    "\n",
    "@dataclass\n",
    "class EmailNotification(Notification):\n",
    "    email: str\n",
    "\n",
    "@dataclass\n",
    "class SMSNotification(Notification):\n",
    "    phone: str\n",
    "    country_code: int\n",
    "\n",
    "@dataclass\n",
    "class SlackNotification(Notification):\n",
    "    channel: str\n",
    "\n",
    "\n",
    "config = {\n",
    "    'notifications': [EmailNotification('joe@example.com'), SMSNotification(123456789, 1), SlackNotification('#general'), SMSNotification(987654321, 44)]\n",
    "}\n",
    "\n",
    "def configure_email(email: EmailNotification) -> None:\n",
    "    # pretend this does something useful\n",
    "    print(f\"Email configured for {email.email}\")\n",
    "\n",
    "def configure_sms(sms: SMSNotification) -> None:\n",
    "    # pretend this does something useful\n",
    "    print(f\"Domestic SMS configured for [{sms.country_code}]{sms.phone}\")\n",
    "\n",
    "def configure_international_sms(sms: SMSNotification) -> None:\n",
    "    # pretend this does something useful\n",
    "    print(f\"International SMS configured for [{sms.country_code}]{sms.phone}\")\n",
    "\n",
    "def configure_slack(channel: str) -> None:\n",
    "    # pretend this does something useful\n",
    "    print(f\"Slack configured for {channel}\")\n",
    "\n",
    "# this is the old way\n",
    "def process_config(config: dict) -> None:\n",
    "    notifications = config.get('notifications', [])\n",
    "    for notification in notifications:\n",
    "        if isinstance(notification, EmailNotification):\n",
    "            configure_email(notification)\n",
    "        elif isinstance(notification, SMSNotification):\n",
    "            if notification.country_code == 1:\n",
    "                configure_sms(notification)\n",
    "            else:\n",
    "                configure_international_sms(notification)\n",
    "        elif isinstance(notification, SlackNotification):\n",
    "            configure_slack(notification.channel)\n",
    "        else:\n",
    "            print(f\"Unknown notification type {type(notification)}\")\n",
    "\n",
    "# this is with structural pattern matching\n",
    "def process_config_match(config: dict) -> None:\n",
    "    for notification in config.get('notifications', []):\n",
    "        match notification:\n",
    "            case EmailNotification(_):\n",
    "                configure_email(notification)\n",
    "            case SMSNotification(_, 1):\n",
    "                configure_sms(notification)\n",
    "            case SMSNotification(_, _):\n",
    "                configure_sms(notification)\n",
    "            case SlackNotification(channel):\n",
    "                configure_slack(channel)\n",
    "            case _:\n",
    "                print(f\"Unknown notification type {type(notification)}\")\n",
    "\n",
    "print(\"Old way\")\n",
    "process_config(config)\n",
    "print(\"New way\")\n",
    "process_config_match(config)"
   ]
  },
  {
   "attachments": {},
   "cell_type": "markdown",
   "id": "cfd8258f",
   "metadata": {},
   "source": [
    "Again, the use of `match` here provides much more readable and clean code. There is not one use of `isinstance`, and differentiating between different types of `SMSNotification` values is much more clear.\n",
    "\n",
    "I'll quickly point out that in order for your own types to match on their values, you either need to use `dataclasses` (as I did above) or create a special `__match__args__` attribute in your own classes if you have multiple arguments you want to match up with using different names. You can read the specs (linked below) for more details.\n",
    "\n",
    "## Expression vs. Statement\n",
    "In other languages, like Scala, a match is an expression instead of a statement so you use it to set values. This can be very handy. You can do something like this:\n",
    "```scala\n",
    "val label = token match {\n",
    "    case Name(first, last) => first\n",
    "    case Title(title)      => title\n",
    "    case _                 => \"[N/A]\" \n",
    "}\n",
    "```\n",
    "\n",
    "In Python, you'd have to rely on something like this (which is not as obvious and well contained, we end up having to write code assigning to label three times).\n"
   ]
  },
  {
   "cell_type": "code",
   "execution_count": 24,
   "id": "2cadd808",
   "metadata": {},
   "outputs": [
    {
     "name": "stdout",
     "output_type": "stream",
     "text": [
      "Jane\n"
     ]
    }
   ],
   "source": [
    "@dataclass\n",
    "class Name:\n",
    "    first: str\n",
    "    last: str\n",
    "\n",
    "@dataclass\n",
    "class Title:\n",
    "    title: str\n",
    "token = Name('Jane', 'Smith')\n",
    "\n",
    "match token:\n",
    "    case Name(first, last):\n",
    "        label = first\n",
    "    case Title(title):\n",
    "        label = title\n",
    "    case _:\n",
    "        label = \"[N/A]\"\n",
    "\n",
    "print(label)"
   ]
  },
  {
   "attachments": {},
   "cell_type": "markdown",
   "id": "48528ebf",
   "metadata": {},
   "source": [
    "\n",
    "## Summary\n",
    "If you are interested in digging into Structural pattern matching more, then there are some good resources available. To prepare this article, I read the following PEPs: \n",
    "\n",
    "* syntax proposal [PEP 622](https://peps.python.org/pep-0622)\n",
    "* technical spec [PEP 634](https://peps.python.org/pep-0634)\n",
    "* motivation and rationale [PEP 635](https://peps.python.org/pep-0635)\n",
    "* tutorial [PEP 636](https://peps.python.org/pep-0636/)\n",
    "\n",
    "By reading this far, you've seen a _lot_ of examples. I hope you've learned something about how structural pattern matching works in Python and how it can help you write cleaner, more maintainable, and more understandable code."
   ]
  }
 ],
 "metadata": {
  "kernelspec": {
   "display_name": "python-matching",
   "language": "python",
   "name": "python3"
  },
  "language_info": {
   "codemirror_mode": {
    "name": "ipython",
    "version": 3
   },
   "file_extension": ".py",
   "mimetype": "text/x-python",
   "name": "python",
   "nbconvert_exporter": "python",
   "pygments_lexer": "ipython3",
   "version": "3.10.4"
  },
  "varInspector": {
   "cols": {
    "lenName": 16,
    "lenType": 16,
    "lenVar": 40
   },
   "kernels_config": {
    "python": {
     "delete_cmd_postfix": "",
     "delete_cmd_prefix": "del ",
     "library": "var_list.py",
     "varRefreshCmd": "print(var_dic_list())"
    },
    "r": {
     "delete_cmd_postfix": ") ",
     "delete_cmd_prefix": "rm(",
     "library": "var_list.r",
     "varRefreshCmd": "cat(var_dic_list()) "
    }
   },
   "types_to_exclude": [
    "module",
    "function",
    "builtin_function_or_method",
    "instance",
    "_Feature"
   ],
   "window_display": false
  },
  "vscode": {
   "interpreter": {
    "hash": "89f57d07e193cc78c3508739b8a6f7adc88c946c0844bef624b8e42dd94ef7a2"
   }
  }
 },
 "nbformat": 4,
 "nbformat_minor": 5
}
